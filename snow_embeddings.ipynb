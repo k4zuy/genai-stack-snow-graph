{
 "cells": [
  {
   "cell_type": "code",
   "execution_count": null,
   "metadata": {},
   "outputs": [],
   "source": [
    "import os\n",
    "from dotenv import load_dotenv\n",
    "from langchain_community.graphs import Neo4jGraph\n",
    "from utils import (\n",
    "    create_vector_index,\n",
    ")\n",
    "from chains import (\n",
    "    load_embedding_model,\n",
    "    load_llm,\n",
    "    configure_llm_only_chain,\n",
    "    configure_qa_rag_chain,\n",
    "    generate_ticket,\n",
    ")"
   ]
  },
  {
   "cell_type": "code",
   "execution_count": null,
   "metadata": {},
   "outputs": [],
   "source": [
    "load_dotenv(\".env\")\n",
    "\n",
    "url = os.getenv(\"NEO4J_URI\")\n",
    "username = os.getenv(\"NEO4J_USERNAME\")\n",
    "password = os.getenv(\"NEO4J_PASSWORD\")\n",
    "ollama_base_url = os.getenv(\"OLLAMA_BASE_URL\")\n",
    "embedding_model_name = os.getenv(\"EMBEDDING_MODEL\")\n",
    "llm_name = os.getenv(\"LLM\")\n",
    "# Remapping for Langchain Neo4j integration\n",
    "os.environ[\"NEO4J_URL\"] = url"
   ]
  },
  {
   "cell_type": "code",
   "execution_count": null,
   "metadata": {},
   "outputs": [],
   "source": [
    "# if Neo4j is local, you can go to http://localhost:7474/ to browse the database\n",
    "neo4j_graph = Neo4jGraph(url=url, username=username, password=password)\n",
    "embeddings, dimension = load_embedding_model(\n",
    "    embedding_model_name, config={\"ollama_base_url\": ollama_base_url}, logger=logger\n",
    ")\n",
    "create_vector_index(neo4j_graph, dimension)"
   ]
  }
 ],
 "metadata": {
  "language_info": {
   "name": "python"
  }
 },
 "nbformat": 4,
 "nbformat_minor": 2
}
